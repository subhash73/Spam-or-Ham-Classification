{
 "cells": [
  {
   "cell_type": "code",
   "execution_count": 1,
   "id": "bd32f438",
   "metadata": {
    "_cell_guid": "b1076dfc-b9ad-4769-8c92-a6c4dae69d19",
    "_uuid": "8f2839f25d086af736a60e9eeb907d3b93b6e0e5",
    "execution": {
     "iopub.execute_input": "2022-10-14T14:58:08.634541Z",
     "iopub.status.busy": "2022-10-14T14:58:08.634071Z",
     "iopub.status.idle": "2022-10-14T14:58:08.658414Z",
     "shell.execute_reply": "2022-10-14T14:58:08.657541Z"
    },
    "papermill": {
     "duration": 0.039087,
     "end_time": "2022-10-14T14:58:08.660587",
     "exception": false,
     "start_time": "2022-10-14T14:58:08.621500",
     "status": "completed"
    },
    "tags": []
   },
   "outputs": [
    {
     "name": "stdout",
     "output_type": "stream",
     "text": [
      "/kaggle/input/spam-or-not-spam-dataset/spam_or_not_spam.csv\n",
      "/kaggle/input/sms-spam-collection-dataset/spam.csv\n"
     ]
    }
   ],
   "source": [
    "# This Python 3 environment comes with many helpful analytics libraries installed\n",
    "# It is defined by the kaggle/python Docker image: https://github.com/kaggle/docker-python\n",
    "# For example, here's several helpful packages to load\n",
    "\n",
    "import numpy as np # linear algebra\n",
    "import pandas as pd # data processing, CSV file I/O (e.g. pd.read_csv)\n",
    "\n",
    "# Input data files are available in the read-only \"../input/\" directory\n",
    "# For example, running this (by clicking run or pressing Shift+Enter) will list all files under the input directory\n",
    "\n",
    "import os\n",
    "for dirname, _, filenames in os.walk('/kaggle/input'):\n",
    "    for filename in filenames:\n",
    "        print(os.path.join(dirname, filename))\n",
    "\n",
    "# You can write up to 20GB to the current directory (/kaggle/working/) that gets preserved as output when you create a version using \"Save & Run All\" \n",
    "# You can also write temporary files to /kaggle/temp/, but they won't be saved outside of the current session"
   ]
  },
  {
   "cell_type": "markdown",
   "id": "ac6156e3",
   "metadata": {
    "papermill": {
     "duration": 0.009516,
     "end_time": "2022-10-14T14:58:08.680477",
     "exception": false,
     "start_time": "2022-10-14T14:58:08.670961",
     "status": "completed"
    },
    "tags": []
   },
   "source": [
    " #  <center> A Complete Guide to Naive Bayes Classifiers </center>\n",
    "\n",
    "### <center> Support me with an upvote if you find it useful! 👍 </center>"
   ]
  },
  {
   "cell_type": "markdown",
   "id": "49a68b5d",
   "metadata": {
    "papermill": {
     "duration": 0.010806,
     "end_time": "2022-10-14T14:58:08.702623",
     "exception": false,
     "start_time": "2022-10-14T14:58:08.691817",
     "status": "completed"
    },
    "tags": []
   },
   "source": [
    "# A little introduction\n",
    "*These Informations are Gathered from Different Sources:-\n",
    "Spam Email , become a big trouble over the internet. Spam is waste of time, storage space and communication bandwidth. The problem of spam e-mail has been increasing for years. In recent statistics, 40% of all emails are spam which about 15.4 billion email per day and that cost internet users about $355 million per year Knowledge engineering and machine learning are the two general approaches used in e-mail filtering In knowledge engineering approach a set of rules has to be specified according to which emails are categorized as spam or ham.\n",
    "Machine learning approach is more efficient than knowledge engineering approach; it does not require specifying any rules . Instead, a set of training samples, these samples is a set of pre classified e-mail messages. A specific algorithm is then used to learn the classification rules from these e-mail messages. Machine learning approach has been widely studied and there are lots of algorithms can be used in e-mail filtering. They include Naive Bayes, support vector machines, Neural Networks, K-nearest neighbour, Rough sets and the artificial immune system.\n",
    "**\n",
    "\n"
   ]
  },
  {
   "cell_type": "markdown",
   "id": "bf4d571a",
   "metadata": {
    "papermill": {
     "duration": 0.009573,
     "end_time": "2022-10-14T14:58:08.722621",
     "exception": false,
     "start_time": "2022-10-14T14:58:08.713048",
     "status": "completed"
    },
    "tags": []
   },
   "source": [
    "![](https://lh4.googleusercontent.com/GLh_DMfJTADGQatgbiE_LBXnMEgeRdbRxRK76oeD2lNCNOuFvI4Sakq9UWKjPPYFF6C0peSHddcbSvp4_N0GORgVVsLR9sHg1heYIrtTEOOvUIatb6AGKoPd0vdTnf_EOviu49tJ)"
   ]
  },
  {
   "cell_type": "markdown",
   "id": "ea190687",
   "metadata": {
    "papermill": {
     "duration": 0.009508,
     "end_time": "2022-10-14T14:58:08.742084",
     "exception": false,
     "start_time": "2022-10-14T14:58:08.732576",
     "status": "completed"
    },
    "tags": []
   },
   "source": [
    "![](\n",
    "https://lh5.googleusercontent.com/z4dZJZ-tTiTXFWdLyq8c4S0MuGZMkRwnw24eiSa0Bsnw08a6LioH4lRy_7OorCcjW_NeJug-rolsFGrt-rB13gBrMDsSp7PboQ-7Aj824YR7gkI6JwM6djpgLo2uYMQ6cD3kBX2z\n",
    ")"
   ]
  },
  {
   "cell_type": "markdown",
   "id": "746c7572",
   "metadata": {
    "papermill": {
     "duration": 0.009263,
     "end_time": "2022-10-14T14:58:08.761015",
     "exception": false,
     "start_time": "2022-10-14T14:58:08.751752",
     "status": "completed"
    },
    "tags": []
   },
   "source": [
    "# What is Naive Bayes algorithm?\n",
    "It is a classification technique based on Bayes’ Theorem with an assumption of independence among predictors. In simple terms, a Naive Bayes classifier assumes that the presence of a particular feature in a class is unrelated to the presence of any other feature.\n",
    "For example, a fruit may be considered to be an apple if it is red, round, and about 3 inches in diameter. Even if these features depend on each other or upon the existence of the other features, all of these properties independently contribute to the probability that this fruit is an apple and that is why it is known as ‘Naive’.\n"
   ]
  },
  {
   "cell_type": "markdown",
   "id": "cbf42978",
   "metadata": {
    "papermill": {
     "duration": 0.009602,
     "end_time": "2022-10-14T14:58:08.780263",
     "exception": false,
     "start_time": "2022-10-14T14:58:08.770661",
     "status": "completed"
    },
    "tags": []
   },
   "source": [
    "![](https://lh4.googleusercontent.com/GLh_DMfJTADGQatgbiE_LBXnMEgeRdbRxRK76oeD2lNCNOuFvI4Sakq9UWKjPPYFF6C0peSHddcbSvp4_N0GORgVVsLR9sHg1heYIrtTEOOvUIatb6AGKoPd0vdTnf_EOviu49tJ)"
   ]
  },
  {
   "cell_type": "markdown",
   "id": "27304f8d",
   "metadata": {
    "papermill": {
     "duration": 0.009746,
     "end_time": "2022-10-14T14:58:08.800065",
     "exception": false,
     "start_time": "2022-10-14T14:58:08.790319",
     "status": "completed"
    },
    "tags": []
   },
   "source": [
    "# How it is work"
   ]
  },
  {
   "cell_type": "markdown",
   "id": "76cc8f4b",
   "metadata": {
    "papermill": {
     "duration": 0.009446,
     "end_time": "2022-10-14T14:58:08.819679",
     "exception": false,
     "start_time": "2022-10-14T14:58:08.810233",
     "status": "completed"
    },
    "tags": []
   },
   "source": [
    "Naive Bayes model is easy to build and particularly useful for very large data sets. Along with simplicity, Naive Bayes is known to outperform even highly sophisticated classification methods.\n",
    "Bayes theorem provides a way of calculating posterior probability P(c|x) from P(c), P(x) and P(x|c). Look at the equation below:\n",
    " Above,\n",
    "* P(c|x) is the posterior probability of class (c, target) given predictor (x, attributes).\n",
    "* P(c) is the prior probability of class.\n",
    "* P(x|c) is the likelihood which is the probability of predictor given class.\n",
    "* P(x) is the prior probability of predictor.\n",
    "\n"
   ]
  },
  {
   "cell_type": "markdown",
   "id": "734893f7",
   "metadata": {
    "papermill": {
     "duration": 0.00941,
     "end_time": "2022-10-14T14:58:08.838927",
     "exception": false,
     "start_time": "2022-10-14T14:58:08.829517",
     "status": "completed"
    },
    "tags": []
   },
   "source": [
    "![](https://miro.medium.com/max/640/1*2Ixe8hsTASXjMXt9TySHGA.png)"
   ]
  },
  {
   "cell_type": "markdown",
   "id": "64a0a1be",
   "metadata": {
    "papermill": {
     "duration": 0.009503,
     "end_time": "2022-10-14T14:58:08.858221",
     "exception": false,
     "start_time": "2022-10-14T14:58:08.848718",
     "status": "completed"
    },
    "tags": []
   },
   "source": [
    "# Importing Libaries"
   ]
  },
  {
   "cell_type": "code",
   "execution_count": 2,
   "id": "c9db1c31",
   "metadata": {
    "execution": {
     "iopub.execute_input": "2022-10-14T14:58:08.879404Z",
     "iopub.status.busy": "2022-10-14T14:58:08.878981Z",
     "iopub.status.idle": "2022-10-14T14:58:10.125093Z",
     "shell.execute_reply": "2022-10-14T14:58:10.123776Z"
    },
    "papermill": {
     "duration": 1.259602,
     "end_time": "2022-10-14T14:58:10.127560",
     "exception": false,
     "start_time": "2022-10-14T14:58:08.867958",
     "status": "completed"
    },
    "tags": []
   },
   "outputs": [],
   "source": [
    "import numpy as np\n",
    "import pandas as pd\n",
    "import matplotlib.pyplot as plt\n",
    "from collections import Counter\n",
    "from sklearn import feature_extraction, model_selection, naive_bayes, metrics, svm\n",
    "from IPython.display import Image\n",
    "import warnings\n",
    "warnings.filterwarnings(\"ignore\")\n",
    "%matplotlib inline  "
   ]
  },
  {
   "cell_type": "markdown",
   "id": "182393ad",
   "metadata": {
    "papermill": {
     "duration": 0.010186,
     "end_time": "2022-10-14T14:58:10.147985",
     "exception": false,
     "start_time": "2022-10-14T14:58:10.137799",
     "status": "completed"
    },
    "tags": []
   },
   "source": [
    "# Importing Data"
   ]
  },
  {
   "cell_type": "code",
   "execution_count": 3,
   "id": "cf34ec90",
   "metadata": {
    "execution": {
     "iopub.execute_input": "2022-10-14T14:58:10.169875Z",
     "iopub.status.busy": "2022-10-14T14:58:10.169539Z",
     "iopub.status.idle": "2022-10-14T14:58:10.217758Z",
     "shell.execute_reply": "2022-10-14T14:58:10.216779Z"
    },
    "papermill": {
     "duration": 0.061242,
     "end_time": "2022-10-14T14:58:10.219407",
     "exception": false,
     "start_time": "2022-10-14T14:58:10.158165",
     "status": "completed"
    },
    "tags": []
   },
   "outputs": [
    {
     "data": {
      "text/html": [
       "<div>\n",
       "<style scoped>\n",
       "    .dataframe tbody tr th:only-of-type {\n",
       "        vertical-align: middle;\n",
       "    }\n",
       "\n",
       "    .dataframe tbody tr th {\n",
       "        vertical-align: top;\n",
       "    }\n",
       "\n",
       "    .dataframe thead th {\n",
       "        text-align: right;\n",
       "    }\n",
       "</style>\n",
       "<table border=\"1\" class=\"dataframe\">\n",
       "  <thead>\n",
       "    <tr style=\"text-align: right;\">\n",
       "      <th></th>\n",
       "      <th>v1</th>\n",
       "      <th>v2</th>\n",
       "      <th>Unnamed: 2</th>\n",
       "      <th>Unnamed: 3</th>\n",
       "      <th>Unnamed: 4</th>\n",
       "    </tr>\n",
       "  </thead>\n",
       "  <tbody>\n",
       "    <tr>\n",
       "      <th>0</th>\n",
       "      <td>ham</td>\n",
       "      <td>Go until jurong point, crazy.. Available only ...</td>\n",
       "      <td>NaN</td>\n",
       "      <td>NaN</td>\n",
       "      <td>NaN</td>\n",
       "    </tr>\n",
       "    <tr>\n",
       "      <th>1</th>\n",
       "      <td>ham</td>\n",
       "      <td>Ok lar... Joking wif u oni...</td>\n",
       "      <td>NaN</td>\n",
       "      <td>NaN</td>\n",
       "      <td>NaN</td>\n",
       "    </tr>\n",
       "    <tr>\n",
       "      <th>2</th>\n",
       "      <td>spam</td>\n",
       "      <td>Free entry in 2 a wkly comp to win FA Cup fina...</td>\n",
       "      <td>NaN</td>\n",
       "      <td>NaN</td>\n",
       "      <td>NaN</td>\n",
       "    </tr>\n",
       "    <tr>\n",
       "      <th>3</th>\n",
       "      <td>ham</td>\n",
       "      <td>U dun say so early hor... U c already then say...</td>\n",
       "      <td>NaN</td>\n",
       "      <td>NaN</td>\n",
       "      <td>NaN</td>\n",
       "    </tr>\n",
       "    <tr>\n",
       "      <th>4</th>\n",
       "      <td>ham</td>\n",
       "      <td>Nah I don't think he goes to usf, he lives aro...</td>\n",
       "      <td>NaN</td>\n",
       "      <td>NaN</td>\n",
       "      <td>NaN</td>\n",
       "    </tr>\n",
       "    <tr>\n",
       "      <th>5</th>\n",
       "      <td>spam</td>\n",
       "      <td>FreeMsg Hey there darling it's been 3 week's n...</td>\n",
       "      <td>NaN</td>\n",
       "      <td>NaN</td>\n",
       "      <td>NaN</td>\n",
       "    </tr>\n",
       "    <tr>\n",
       "      <th>6</th>\n",
       "      <td>ham</td>\n",
       "      <td>Even my brother is not like to speak with me. ...</td>\n",
       "      <td>NaN</td>\n",
       "      <td>NaN</td>\n",
       "      <td>NaN</td>\n",
       "    </tr>\n",
       "    <tr>\n",
       "      <th>7</th>\n",
       "      <td>ham</td>\n",
       "      <td>As per your request 'Melle Melle (Oru Minnamin...</td>\n",
       "      <td>NaN</td>\n",
       "      <td>NaN</td>\n",
       "      <td>NaN</td>\n",
       "    </tr>\n",
       "    <tr>\n",
       "      <th>8</th>\n",
       "      <td>spam</td>\n",
       "      <td>WINNER!! As a valued network customer you have...</td>\n",
       "      <td>NaN</td>\n",
       "      <td>NaN</td>\n",
       "      <td>NaN</td>\n",
       "    </tr>\n",
       "    <tr>\n",
       "      <th>9</th>\n",
       "      <td>spam</td>\n",
       "      <td>Had your mobile 11 months or more? U R entitle...</td>\n",
       "      <td>NaN</td>\n",
       "      <td>NaN</td>\n",
       "      <td>NaN</td>\n",
       "    </tr>\n",
       "  </tbody>\n",
       "</table>\n",
       "</div>"
      ],
      "text/plain": [
       "     v1                                                 v2 Unnamed: 2  \\\n",
       "0   ham  Go until jurong point, crazy.. Available only ...        NaN   \n",
       "1   ham                      Ok lar... Joking wif u oni...        NaN   \n",
       "2  spam  Free entry in 2 a wkly comp to win FA Cup fina...        NaN   \n",
       "3   ham  U dun say so early hor... U c already then say...        NaN   \n",
       "4   ham  Nah I don't think he goes to usf, he lives aro...        NaN   \n",
       "5  spam  FreeMsg Hey there darling it's been 3 week's n...        NaN   \n",
       "6   ham  Even my brother is not like to speak with me. ...        NaN   \n",
       "7   ham  As per your request 'Melle Melle (Oru Minnamin...        NaN   \n",
       "8  spam  WINNER!! As a valued network customer you have...        NaN   \n",
       "9  spam  Had your mobile 11 months or more? U R entitle...        NaN   \n",
       "\n",
       "  Unnamed: 3 Unnamed: 4  \n",
       "0        NaN        NaN  \n",
       "1        NaN        NaN  \n",
       "2        NaN        NaN  \n",
       "3        NaN        NaN  \n",
       "4        NaN        NaN  \n",
       "5        NaN        NaN  \n",
       "6        NaN        NaN  \n",
       "7        NaN        NaN  \n",
       "8        NaN        NaN  \n",
       "9        NaN        NaN  "
      ]
     },
     "execution_count": 3,
     "metadata": {},
     "output_type": "execute_result"
    }
   ],
   "source": [
    "data = pd.read_csv('/kaggle/input/sms-spam-collection-dataset/spam.csv', encoding='latin-1')\n",
    "data.head(n=10)"
   ]
  },
  {
   "cell_type": "markdown",
   "id": "2f490592",
   "metadata": {
    "papermill": {
     "duration": 0.011149,
     "end_time": "2022-10-14T14:58:10.240937",
     "exception": false,
     "start_time": "2022-10-14T14:58:10.229788",
     "status": "completed"
    },
    "tags": []
   },
   "source": [
    "# EDA"
   ]
  },
  {
   "cell_type": "code",
   "execution_count": 4,
   "id": "ace0ce8c",
   "metadata": {
    "execution": {
     "iopub.execute_input": "2022-10-14T14:58:10.264203Z",
     "iopub.status.busy": "2022-10-14T14:58:10.263829Z",
     "iopub.status.idle": "2022-10-14T14:58:10.277211Z",
     "shell.execute_reply": "2022-10-14T14:58:10.275753Z"
    },
    "papermill": {
     "duration": 0.027565,
     "end_time": "2022-10-14T14:58:10.279567",
     "exception": false,
     "start_time": "2022-10-14T14:58:10.252002",
     "status": "completed"
    },
    "tags": []
   },
   "outputs": [],
   "source": [
    "df = data.drop([\"Unnamed: 2\", \"Unnamed: 3\", \"Unnamed: 4\"], axis=1)\n",
    "df = df.rename(columns={\"v1\":\"label\", \"v2\":\"sms\"})"
   ]
  },
  {
   "cell_type": "code",
   "execution_count": 5,
   "id": "0fbc13ca",
   "metadata": {
    "execution": {
     "iopub.execute_input": "2022-10-14T14:58:10.305462Z",
     "iopub.status.busy": "2022-10-14T14:58:10.304250Z",
     "iopub.status.idle": "2022-10-14T14:58:10.320645Z",
     "shell.execute_reply": "2022-10-14T14:58:10.319452Z"
    },
    "papermill": {
     "duration": 0.033045,
     "end_time": "2022-10-14T14:58:10.323131",
     "exception": false,
     "start_time": "2022-10-14T14:58:10.290086",
     "status": "completed"
    },
    "tags": []
   },
   "outputs": [
    {
     "data": {
      "text/html": [
       "<div>\n",
       "<style scoped>\n",
       "    .dataframe tbody tr th:only-of-type {\n",
       "        vertical-align: middle;\n",
       "    }\n",
       "\n",
       "    .dataframe tbody tr th {\n",
       "        vertical-align: top;\n",
       "    }\n",
       "\n",
       "    .dataframe thead th {\n",
       "        text-align: right;\n",
       "    }\n",
       "</style>\n",
       "<table border=\"1\" class=\"dataframe\">\n",
       "  <thead>\n",
       "    <tr style=\"text-align: right;\">\n",
       "      <th></th>\n",
       "      <th>label</th>\n",
       "      <th>sms</th>\n",
       "    </tr>\n",
       "  </thead>\n",
       "  <tbody>\n",
       "    <tr>\n",
       "      <th>0</th>\n",
       "      <td>ham</td>\n",
       "      <td>Go until jurong point, crazy.. Available only ...</td>\n",
       "    </tr>\n",
       "    <tr>\n",
       "      <th>1</th>\n",
       "      <td>ham</td>\n",
       "      <td>Ok lar... Joking wif u oni...</td>\n",
       "    </tr>\n",
       "    <tr>\n",
       "      <th>2</th>\n",
       "      <td>spam</td>\n",
       "      <td>Free entry in 2 a wkly comp to win FA Cup fina...</td>\n",
       "    </tr>\n",
       "    <tr>\n",
       "      <th>3</th>\n",
       "      <td>ham</td>\n",
       "      <td>U dun say so early hor... U c already then say...</td>\n",
       "    </tr>\n",
       "    <tr>\n",
       "      <th>4</th>\n",
       "      <td>ham</td>\n",
       "      <td>Nah I don't think he goes to usf, he lives aro...</td>\n",
       "    </tr>\n",
       "    <tr>\n",
       "      <th>...</th>\n",
       "      <td>...</td>\n",
       "      <td>...</td>\n",
       "    </tr>\n",
       "    <tr>\n",
       "      <th>5567</th>\n",
       "      <td>spam</td>\n",
       "      <td>This is the 2nd time we have tried 2 contact u...</td>\n",
       "    </tr>\n",
       "    <tr>\n",
       "      <th>5568</th>\n",
       "      <td>ham</td>\n",
       "      <td>Will Ì_ b going to esplanade fr home?</td>\n",
       "    </tr>\n",
       "    <tr>\n",
       "      <th>5569</th>\n",
       "      <td>ham</td>\n",
       "      <td>Pity, * was in mood for that. So...any other s...</td>\n",
       "    </tr>\n",
       "    <tr>\n",
       "      <th>5570</th>\n",
       "      <td>ham</td>\n",
       "      <td>The guy did some bitching but I acted like i'd...</td>\n",
       "    </tr>\n",
       "    <tr>\n",
       "      <th>5571</th>\n",
       "      <td>ham</td>\n",
       "      <td>Rofl. Its true to its name</td>\n",
       "    </tr>\n",
       "  </tbody>\n",
       "</table>\n",
       "<p>5572 rows × 2 columns</p>\n",
       "</div>"
      ],
      "text/plain": [
       "     label                                                sms\n",
       "0      ham  Go until jurong point, crazy.. Available only ...\n",
       "1      ham                      Ok lar... Joking wif u oni...\n",
       "2     spam  Free entry in 2 a wkly comp to win FA Cup fina...\n",
       "3      ham  U dun say so early hor... U c already then say...\n",
       "4      ham  Nah I don't think he goes to usf, he lives aro...\n",
       "...    ...                                                ...\n",
       "5567  spam  This is the 2nd time we have tried 2 contact u...\n",
       "5568   ham              Will Ì_ b going to esplanade fr home?\n",
       "5569   ham  Pity, * was in mood for that. So...any other s...\n",
       "5570   ham  The guy did some bitching but I acted like i'd...\n",
       "5571   ham                         Rofl. Its true to its name\n",
       "\n",
       "[5572 rows x 2 columns]"
      ]
     },
     "execution_count": 5,
     "metadata": {},
     "output_type": "execute_result"
    }
   ],
   "source": [
    "df"
   ]
  },
  {
   "cell_type": "code",
   "execution_count": 6,
   "id": "a2aa04c5",
   "metadata": {
    "execution": {
     "iopub.execute_input": "2022-10-14T14:58:10.351361Z",
     "iopub.status.busy": "2022-10-14T14:58:10.349144Z",
     "iopub.status.idle": "2022-10-14T14:58:10.362533Z",
     "shell.execute_reply": "2022-10-14T14:58:10.361515Z"
    },
    "papermill": {
     "duration": 0.029614,
     "end_time": "2022-10-14T14:58:10.364998",
     "exception": false,
     "start_time": "2022-10-14T14:58:10.335384",
     "status": "completed"
    },
    "tags": []
   },
   "outputs": [
    {
     "data": {
      "text/plain": [
       "ham     4825\n",
       "spam     747\n",
       "Name: label, dtype: int64"
      ]
     },
     "execution_count": 6,
     "metadata": {},
     "output_type": "execute_result"
    }
   ],
   "source": [
    "#Number of observations in each label spam and ham\n",
    "df.label.value_counts()\n"
   ]
  },
  {
   "cell_type": "code",
   "execution_count": 7,
   "id": "ac280a53",
   "metadata": {
    "execution": {
     "iopub.execute_input": "2022-10-14T14:58:10.391844Z",
     "iopub.status.busy": "2022-10-14T14:58:10.391503Z",
     "iopub.status.idle": "2022-10-14T14:58:10.409134Z",
     "shell.execute_reply": "2022-10-14T14:58:10.407779Z"
    },
    "papermill": {
     "duration": 0.03241,
     "end_time": "2022-10-14T14:58:10.411471",
     "exception": false,
     "start_time": "2022-10-14T14:58:10.379061",
     "status": "completed"
    },
    "tags": []
   },
   "outputs": [
    {
     "data": {
      "text/html": [
       "<div>\n",
       "<style scoped>\n",
       "    .dataframe tbody tr th:only-of-type {\n",
       "        vertical-align: middle;\n",
       "    }\n",
       "\n",
       "    .dataframe tbody tr th {\n",
       "        vertical-align: top;\n",
       "    }\n",
       "\n",
       "    .dataframe thead th {\n",
       "        text-align: right;\n",
       "    }\n",
       "</style>\n",
       "<table border=\"1\" class=\"dataframe\">\n",
       "  <thead>\n",
       "    <tr style=\"text-align: right;\">\n",
       "      <th></th>\n",
       "      <th>label</th>\n",
       "      <th>sms</th>\n",
       "    </tr>\n",
       "  </thead>\n",
       "  <tbody>\n",
       "    <tr>\n",
       "      <th>count</th>\n",
       "      <td>5572</td>\n",
       "      <td>5572</td>\n",
       "    </tr>\n",
       "    <tr>\n",
       "      <th>unique</th>\n",
       "      <td>2</td>\n",
       "      <td>5169</td>\n",
       "    </tr>\n",
       "    <tr>\n",
       "      <th>top</th>\n",
       "      <td>ham</td>\n",
       "      <td>Sorry, I'll call later</td>\n",
       "    </tr>\n",
       "    <tr>\n",
       "      <th>freq</th>\n",
       "      <td>4825</td>\n",
       "      <td>30</td>\n",
       "    </tr>\n",
       "  </tbody>\n",
       "</table>\n",
       "</div>"
      ],
      "text/plain": [
       "       label                     sms\n",
       "count   5572                    5572\n",
       "unique     2                    5169\n",
       "top      ham  Sorry, I'll call later\n",
       "freq    4825                      30"
      ]
     },
     "execution_count": 7,
     "metadata": {},
     "output_type": "execute_result"
    }
   ],
   "source": [
    "df.describe()"
   ]
  },
  {
   "cell_type": "code",
   "execution_count": 8,
   "id": "f8073867",
   "metadata": {
    "execution": {
     "iopub.execute_input": "2022-10-14T14:58:10.434411Z",
     "iopub.status.busy": "2022-10-14T14:58:10.434050Z",
     "iopub.status.idle": "2022-10-14T14:58:10.448179Z",
     "shell.execute_reply": "2022-10-14T14:58:10.446601Z"
    },
    "papermill": {
     "duration": 0.02875,
     "end_time": "2022-10-14T14:58:10.450952",
     "exception": false,
     "start_time": "2022-10-14T14:58:10.422202",
     "status": "completed"
    },
    "tags": []
   },
   "outputs": [
    {
     "data": {
      "text/html": [
       "<div>\n",
       "<style scoped>\n",
       "    .dataframe tbody tr th:only-of-type {\n",
       "        vertical-align: middle;\n",
       "    }\n",
       "\n",
       "    .dataframe tbody tr th {\n",
       "        vertical-align: top;\n",
       "    }\n",
       "\n",
       "    .dataframe thead th {\n",
       "        text-align: right;\n",
       "    }\n",
       "</style>\n",
       "<table border=\"1\" class=\"dataframe\">\n",
       "  <thead>\n",
       "    <tr style=\"text-align: right;\">\n",
       "      <th></th>\n",
       "      <th>label</th>\n",
       "      <th>sms</th>\n",
       "      <th>length</th>\n",
       "    </tr>\n",
       "  </thead>\n",
       "  <tbody>\n",
       "    <tr>\n",
       "      <th>0</th>\n",
       "      <td>ham</td>\n",
       "      <td>Go until jurong point, crazy.. Available only ...</td>\n",
       "      <td>111</td>\n",
       "    </tr>\n",
       "    <tr>\n",
       "      <th>1</th>\n",
       "      <td>ham</td>\n",
       "      <td>Ok lar... Joking wif u oni...</td>\n",
       "      <td>29</td>\n",
       "    </tr>\n",
       "    <tr>\n",
       "      <th>2</th>\n",
       "      <td>spam</td>\n",
       "      <td>Free entry in 2 a wkly comp to win FA Cup fina...</td>\n",
       "      <td>155</td>\n",
       "    </tr>\n",
       "    <tr>\n",
       "      <th>3</th>\n",
       "      <td>ham</td>\n",
       "      <td>U dun say so early hor... U c already then say...</td>\n",
       "      <td>49</td>\n",
       "    </tr>\n",
       "    <tr>\n",
       "      <th>4</th>\n",
       "      <td>ham</td>\n",
       "      <td>Nah I don't think he goes to usf, he lives aro...</td>\n",
       "      <td>61</td>\n",
       "    </tr>\n",
       "  </tbody>\n",
       "</table>\n",
       "</div>"
      ],
      "text/plain": [
       "  label                                                sms  length\n",
       "0   ham  Go until jurong point, crazy.. Available only ...     111\n",
       "1   ham                      Ok lar... Joking wif u oni...      29\n",
       "2  spam  Free entry in 2 a wkly comp to win FA Cup fina...     155\n",
       "3   ham  U dun say so early hor... U c already then say...      49\n",
       "4   ham  Nah I don't think he goes to usf, he lives aro...      61"
      ]
     },
     "execution_count": 8,
     "metadata": {},
     "output_type": "execute_result"
    }
   ],
   "source": [
    "df['length'] = df['sms'].apply(len)\n",
    "df.head(5)"
   ]
  },
  {
   "cell_type": "code",
   "execution_count": 9,
   "id": "3820ae2d",
   "metadata": {
    "execution": {
     "iopub.execute_input": "2022-10-14T14:58:10.473844Z",
     "iopub.status.busy": "2022-10-14T14:58:10.473487Z",
     "iopub.status.idle": "2022-10-14T14:58:10.939087Z",
     "shell.execute_reply": "2022-10-14T14:58:10.937390Z"
    },
    "papermill": {
     "duration": 0.4798,
     "end_time": "2022-10-14T14:58:10.941728",
     "exception": false,
     "start_time": "2022-10-14T14:58:10.461928",
     "status": "completed"
    },
    "tags": []
   },
   "outputs": [
    {
     "data": {
      "text/plain": [
       "<AxesSubplot:ylabel='Frequency'>"
      ]
     },
     "execution_count": 9,
     "metadata": {},
     "output_type": "execute_result"
    },
    {
     "data": {
      "image/png": "[encoded data removed]",
      "text/plain": [
       "<Figure size 432x288 with 1 Axes>"
      ]
     },
     "metadata": {
      "needs_background": "light"
     },
     "output_type": "display_data"
    }
   ],
   "source": [
    "import matplotlib.pyplot as plt\n",
    "import seaborn as sns\n",
    "\n",
    "%matplotlib inline\n",
    "df['length'].plot(bins=50, kind='hist')"
   ]
  },
  {
   "cell_type": "code",
   "execution_count": 10,
   "id": "d7af22cf",
   "metadata": {
    "execution": {
     "iopub.execute_input": "2022-10-14T14:58:10.968349Z",
     "iopub.status.busy": "2022-10-14T14:58:10.967990Z",
     "iopub.status.idle": "2022-10-14T14:58:11.376423Z",
     "shell.execute_reply": "2022-10-14T14:58:11.375449Z"
    },
    "papermill": {
     "duration": 0.423576,
     "end_time": "2022-10-14T14:58:11.378392",
     "exception": false,
     "start_time": "2022-10-14T14:58:10.954816",
     "status": "completed"
    },
    "tags": []
   },
   "outputs": [
    {
     "data": {
      "text/plain": [
       "array([<AxesSubplot:title={'center':'ham'}>,\n",
       "       <AxesSubplot:title={'center':'spam'}>], dtype=object)"
      ]
     },
     "execution_count": 10,
     "metadata": {},
     "output_type": "execute_result"
    },
    {
     "data": {
      "image/png": "[encoded data removed]",
      "text/plain": [
       "<Figure size 720x288 with 2 Axes>"
      ]
     },
     "metadata": {
      "needs_background": "light"
     },
     "output_type": "display_data"
    }
   ],
   "source": [
    "df.hist(column='length', by='label', bins=50,figsize=(10,4))"
   ]
  },
  {
   "cell_type": "code",
   "execution_count": 11,
   "id": "af3c53cc",
   "metadata": {
    "execution": {
     "iopub.execute_input": "2022-10-14T14:58:11.402469Z",
     "iopub.status.busy": "2022-10-14T14:58:11.402151Z",
     "iopub.status.idle": "2022-10-14T14:58:11.517185Z",
     "shell.execute_reply": "2022-10-14T14:58:11.515877Z"
    },
    "papermill": {
     "duration": 0.129776,
     "end_time": "2022-10-14T14:58:11.519409",
     "exception": false,
     "start_time": "2022-10-14T14:58:11.389633",
     "status": "completed"
    },
    "tags": []
   },
   "outputs": [
    {
     "data": {
      "image/png": "[encoded data removed]",
      "text/plain": [
       "<Figure size 432x288 with 1 Axes>"
      ]
     },
     "metadata": {
      "needs_background": "light"
     },
     "output_type": "display_data"
    }
   ],
   "source": [
    "count_Class=pd.value_counts(df[\"label\"], sort= True)\n",
    "count_Class.plot(kind= 'bar', color= [\"blue\", \"orange\"])\n",
    "plt.title('Bar chart')\n",
    "plt.show()"
   ]
  },
  {
   "cell_type": "code",
   "execution_count": 12,
   "id": "8b8f2d42",
   "metadata": {
    "execution": {
     "iopub.execute_input": "2022-10-14T14:58:11.553861Z",
     "iopub.status.busy": "2022-10-14T14:58:11.553465Z",
     "iopub.status.idle": "2022-10-14T14:58:11.643780Z",
     "shell.execute_reply": "2022-10-14T14:58:11.643049Z"
    },
    "papermill": {
     "duration": 0.108768,
     "end_time": "2022-10-14T14:58:11.645532",
     "exception": false,
     "start_time": "2022-10-14T14:58:11.536764",
     "status": "completed"
    },
    "tags": []
   },
   "outputs": [
    {
     "data": {
      "image/png": "[encoded data removed]",
      "text/plain": [
       "<Figure size 432x288 with 1 Axes>"
      ]
     },
     "metadata": {},
     "output_type": "display_data"
    }
   ],
   "source": [
    "count_Class.plot(kind = 'pie',  autopct='%1.0f%%')\n",
    "plt.title('Pie chart')\n",
    "plt.ylabel('')\n",
    "plt.show()"
   ]
  },
  {
   "cell_type": "code",
   "execution_count": 13,
   "id": "a169db9f",
   "metadata": {
    "execution": {
     "iopub.execute_input": "2022-10-14T14:58:11.679007Z",
     "iopub.status.busy": "2022-10-14T14:58:11.677964Z",
     "iopub.status.idle": "2022-10-14T14:58:11.715875Z",
     "shell.execute_reply": "2022-10-14T14:58:11.715085Z"
    },
    "papermill": {
     "duration": 0.057091,
     "end_time": "2022-10-14T14:58:11.718204",
     "exception": false,
     "start_time": "2022-10-14T14:58:11.661113",
     "status": "completed"
    },
    "tags": []
   },
   "outputs": [],
   "source": [
    "count1 = Counter(\" \".join(df[df['label']=='ham'][\"sms\"]).split()).most_common(20)\n",
    "df1 = pd.DataFrame.from_dict(count1)\n",
    "df1 = df1.rename(columns={0: \"words in non-spam\", 1 : \"count\"})\n",
    "count2 = Counter(\" \".join(df[df['label']=='spam'][\"sms\"]).split()).most_common(20)\n",
    "df2 = pd.DataFrame.from_dict(count2)\n",
    "df2 = df2.rename(columns={0: \"words in spam\", 1 : \"count_\"})"
   ]
  },
  {
   "cell_type": "code",
   "execution_count": 14,
   "id": "41b11d01",
   "metadata": {
    "execution": {
     "iopub.execute_input": "2022-10-14T14:58:11.749754Z",
     "iopub.status.busy": "2022-10-14T14:58:11.748990Z",
     "iopub.status.idle": "2022-10-14T14:58:11.956674Z",
     "shell.execute_reply": "2022-10-14T14:58:11.954625Z"
    },
    "papermill": {
     "duration": 0.225746,
     "end_time": "2022-10-14T14:58:11.959416",
     "exception": false,
     "start_time": "2022-10-14T14:58:11.733670",
     "status": "completed"
    },
    "tags": []
   },
   "outputs": [
    {
     "data": {
      "image/png": "[encoded data removed]",
      "text/plain": [
       "<Figure size 432x288 with 1 Axes>"
      ]
     },
     "metadata": {
      "needs_background": "light"
     },
     "output_type": "display_data"
    }
   ],
   "source": [
    "df1.plot.bar(legend = False)\n",
    "y_pos = np.arange(len(df1[\"words in non-spam\"]))\n",
    "plt.xticks(y_pos, df1[\"words in non-spam\"])\n",
    "plt.title('More frequent words in non-spam messages')\n",
    "plt.xlabel('words')\n",
    "plt.ylabel('number')\n",
    "plt.show()"
   ]
  },
  {
   "cell_type": "code",
   "execution_count": 15,
   "id": "bfd877a6",
   "metadata": {
    "execution": {
     "iopub.execute_input": "2022-10-14T14:58:11.991260Z",
     "iopub.status.busy": "2022-10-14T14:58:11.990393Z",
     "iopub.status.idle": "2022-10-14T14:58:12.178401Z",
     "shell.execute_reply": "2022-10-14T14:58:12.177086Z"
    },
    "papermill": {
     "duration": 0.206048,
     "end_time": "2022-10-14T14:58:12.180675",
     "exception": false,
     "start_time": "2022-10-14T14:58:11.974627",
     "status": "completed"
    },
    "tags": []
   },
   "outputs": [
    {
     "data": {
      "image/png": "[encoded data removed]",
      "text/plain": [
       "<Figure size 432x288 with 1 Axes>"
      ]
     },
     "metadata": {
      "needs_background": "light"
     },
     "output_type": "display_data"
    }
   ],
   "source": [
    "df2.plot.bar(legend = False, color = 'orange')\n",
    "y_pos = np.arange(len(df2[\"words in spam\"]))\n",
    "plt.xticks(y_pos, df2[\"words in spam\"])\n",
    "plt.title('More frequent words in spam messages')\n",
    "plt.xlabel('words')\n",
    "plt.ylabel('number')\n",
    "plt.show()"
   ]
  },
  {
   "cell_type": "code",
   "execution_count": 16,
   "id": "e3a813fb",
   "metadata": {
    "execution": {
     "iopub.execute_input": "2022-10-14T14:58:12.207479Z",
     "iopub.status.busy": "2022-10-14T14:58:12.207164Z",
     "iopub.status.idle": "2022-10-14T14:58:12.218993Z",
     "shell.execute_reply": "2022-10-14T14:58:12.218101Z"
    },
    "papermill": {
     "duration": 0.028168,
     "end_time": "2022-10-14T14:58:12.221483",
     "exception": false,
     "start_time": "2022-10-14T14:58:12.193315",
     "status": "completed"
    },
    "tags": []
   },
   "outputs": [
    {
     "data": {
      "text/html": [
       "<div>\n",
       "<style scoped>\n",
       "    .dataframe tbody tr th:only-of-type {\n",
       "        vertical-align: middle;\n",
       "    }\n",
       "\n",
       "    .dataframe tbody tr th {\n",
       "        vertical-align: top;\n",
       "    }\n",
       "\n",
       "    .dataframe thead th {\n",
       "        text-align: right;\n",
       "    }\n",
       "</style>\n",
       "<table border=\"1\" class=\"dataframe\">\n",
       "  <thead>\n",
       "    <tr style=\"text-align: right;\">\n",
       "      <th></th>\n",
       "      <th>label</th>\n",
       "      <th>sms</th>\n",
       "      <th>length</th>\n",
       "    </tr>\n",
       "  </thead>\n",
       "  <tbody>\n",
       "    <tr>\n",
       "      <th>0</th>\n",
       "      <td>ham</td>\n",
       "      <td>Go until jurong point, crazy.. Available only ...</td>\n",
       "      <td>111</td>\n",
       "    </tr>\n",
       "    <tr>\n",
       "      <th>1</th>\n",
       "      <td>ham</td>\n",
       "      <td>Ok lar... Joking wif u oni...</td>\n",
       "      <td>29</td>\n",
       "    </tr>\n",
       "    <tr>\n",
       "      <th>2</th>\n",
       "      <td>spam</td>\n",
       "      <td>Free entry in 2 a wkly comp to win FA Cup fina...</td>\n",
       "      <td>155</td>\n",
       "    </tr>\n",
       "    <tr>\n",
       "      <th>3</th>\n",
       "      <td>ham</td>\n",
       "      <td>U dun say so early hor... U c already then say...</td>\n",
       "      <td>49</td>\n",
       "    </tr>\n",
       "    <tr>\n",
       "      <th>4</th>\n",
       "      <td>ham</td>\n",
       "      <td>Nah I don't think he goes to usf, he lives aro...</td>\n",
       "      <td>61</td>\n",
       "    </tr>\n",
       "    <tr>\n",
       "      <th>...</th>\n",
       "      <td>...</td>\n",
       "      <td>...</td>\n",
       "      <td>...</td>\n",
       "    </tr>\n",
       "    <tr>\n",
       "      <th>5567</th>\n",
       "      <td>spam</td>\n",
       "      <td>This is the 2nd time we have tried 2 contact u...</td>\n",
       "      <td>161</td>\n",
       "    </tr>\n",
       "    <tr>\n",
       "      <th>5568</th>\n",
       "      <td>ham</td>\n",
       "      <td>Will Ì_ b going to esplanade fr home?</td>\n",
       "      <td>37</td>\n",
       "    </tr>\n",
       "    <tr>\n",
       "      <th>5569</th>\n",
       "      <td>ham</td>\n",
       "      <td>Pity, * was in mood for that. So...any other s...</td>\n",
       "      <td>57</td>\n",
       "    </tr>\n",
       "    <tr>\n",
       "      <th>5570</th>\n",
       "      <td>ham</td>\n",
       "      <td>The guy did some bitching but I acted like i'd...</td>\n",
       "      <td>125</td>\n",
       "    </tr>\n",
       "    <tr>\n",
       "      <th>5571</th>\n",
       "      <td>ham</td>\n",
       "      <td>Rofl. Its true to its name</td>\n",
       "      <td>26</td>\n",
       "    </tr>\n",
       "  </tbody>\n",
       "</table>\n",
       "<p>5572 rows × 3 columns</p>\n",
       "</div>"
      ],
      "text/plain": [
       "     label                                                sms  length\n",
       "0      ham  Go until jurong point, crazy.. Available only ...     111\n",
       "1      ham                      Ok lar... Joking wif u oni...      29\n",
       "2     spam  Free entry in 2 a wkly comp to win FA Cup fina...     155\n",
       "3      ham  U dun say so early hor... U c already then say...      49\n",
       "4      ham  Nah I don't think he goes to usf, he lives aro...      61\n",
       "...    ...                                                ...     ...\n",
       "5567  spam  This is the 2nd time we have tried 2 contact u...     161\n",
       "5568   ham              Will Ì_ b going to esplanade fr home?      37\n",
       "5569   ham  Pity, * was in mood for that. So...any other s...      57\n",
       "5570   ham  The guy did some bitching but I acted like i'd...     125\n",
       "5571   ham                         Rofl. Its true to its name      26\n",
       "\n",
       "[5572 rows x 3 columns]"
      ]
     },
     "execution_count": 16,
     "metadata": {},
     "output_type": "execute_result"
    }
   ],
   "source": [
    "df"
   ]
  },
  {
   "cell_type": "code",
   "execution_count": 17,
   "id": "326cfc8b",
   "metadata": {
    "execution": {
     "iopub.execute_input": "2022-10-14T14:58:12.248886Z",
     "iopub.status.busy": "2022-10-14T14:58:12.248141Z",
     "iopub.status.idle": "2022-10-14T14:58:12.261324Z",
     "shell.execute_reply": "2022-10-14T14:58:12.260030Z"
    },
    "papermill": {
     "duration": 0.029104,
     "end_time": "2022-10-14T14:58:12.263255",
     "exception": false,
     "start_time": "2022-10-14T14:58:12.234151",
     "status": "completed"
    },
    "tags": []
   },
   "outputs": [
    {
     "name": "stdout",
     "output_type": "stream",
     "text": [
      "(5572, 3)\n"
     ]
    },
    {
     "data": {
      "text/html": [
       "<div>\n",
       "<style scoped>\n",
       "    .dataframe tbody tr th:only-of-type {\n",
       "        vertical-align: middle;\n",
       "    }\n",
       "\n",
       "    .dataframe tbody tr th {\n",
       "        vertical-align: top;\n",
       "    }\n",
       "\n",
       "    .dataframe thead th {\n",
       "        text-align: right;\n",
       "    }\n",
       "</style>\n",
       "<table border=\"1\" class=\"dataframe\">\n",
       "  <thead>\n",
       "    <tr style=\"text-align: right;\">\n",
       "      <th></th>\n",
       "      <th>label</th>\n",
       "      <th>sms</th>\n",
       "      <th>length</th>\n",
       "    </tr>\n",
       "  </thead>\n",
       "  <tbody>\n",
       "    <tr>\n",
       "      <th>0</th>\n",
       "      <td>0</td>\n",
       "      <td>Go until jurong point, crazy.. Available only ...</td>\n",
       "      <td>111</td>\n",
       "    </tr>\n",
       "    <tr>\n",
       "      <th>1</th>\n",
       "      <td>0</td>\n",
       "      <td>Ok lar... Joking wif u oni...</td>\n",
       "      <td>29</td>\n",
       "    </tr>\n",
       "    <tr>\n",
       "      <th>2</th>\n",
       "      <td>1</td>\n",
       "      <td>Free entry in 2 a wkly comp to win FA Cup fina...</td>\n",
       "      <td>155</td>\n",
       "    </tr>\n",
       "    <tr>\n",
       "      <th>3</th>\n",
       "      <td>0</td>\n",
       "      <td>U dun say so early hor... U c already then say...</td>\n",
       "      <td>49</td>\n",
       "    </tr>\n",
       "    <tr>\n",
       "      <th>4</th>\n",
       "      <td>0</td>\n",
       "      <td>Nah I don't think he goes to usf, he lives aro...</td>\n",
       "      <td>61</td>\n",
       "    </tr>\n",
       "  </tbody>\n",
       "</table>\n",
       "</div>"
      ],
      "text/plain": [
       "   label                                                sms  length\n",
       "0      0  Go until jurong point, crazy.. Available only ...     111\n",
       "1      0                      Ok lar... Joking wif u oni...      29\n",
       "2      1  Free entry in 2 a wkly comp to win FA Cup fina...     155\n",
       "3      0  U dun say so early hor... U c already then say...      49\n",
       "4      0  Nah I don't think he goes to usf, he lives aro...      61"
      ]
     },
     "execution_count": 17,
     "metadata": {},
     "output_type": "execute_result"
    }
   ],
   "source": [
    "df.loc[:,'label'] = df.label.map({'ham':0, 'spam':1})\n",
    "print(df.shape)\n",
    "df.head()"
   ]
  },
  {
   "cell_type": "markdown",
   "id": "5024b480",
   "metadata": {
    "papermill": {
     "duration": 0.012376,
     "end_time": "2022-10-14T14:58:12.289252",
     "exception": false,
     "start_time": "2022-10-14T14:58:12.276876",
     "status": "completed"
    },
    "tags": []
   },
   "source": [
    "# Bag of Words Approach\n",
    "\n",
    "What we have here in our data set is a large collection of text data (5,572 rows of data). Most ML algorithms rely on numerical data to be fed into them as input, and email/sms messages are usually text heavy. We need a way to represent text data for machine learning algorithm and the bag-of-words model helps us to achieve that task. It is a way of extracting features from the text for use in machine learning algorithms. In this approach, we use the tokenized words for each observation and find out the frequency of each token. Using a process which we will go through now, we can convert a collection of documents to a matrix, with each document being a row and each word(token) being the column, and the corresponding (row,column) values being the frequency of occurrence of each word or token in that document.\n",
    "\n",
    "For example:\n",
    "\n",
    "Lets say we have 4 documents as follows:\n",
    "\n",
    "['Hello, how are you!', 'Win money, win from home.', 'Call me now', 'Hello, Call you tomorrow?']\n",
    "\n",
    "Our objective here is to convert this set of text to a frequency distribution matrix, as follows:"
   ]
  },
  {
   "cell_type": "markdown",
   "id": "db80b169",
   "metadata": {
    "papermill": {
     "duration": 0.012919,
     "end_time": "2022-10-14T14:58:12.315949",
     "exception": false,
     "start_time": "2022-10-14T14:58:12.303030",
     "status": "completed"
    },
    "tags": []
   },
   "source": [
    "![](https://image.ibb.co/casG7U/countvectorizer.png)"
   ]
  },
  {
   "cell_type": "markdown",
   "id": "cf4b8c41",
   "metadata": {
    "papermill": {
     "duration": 0.012355,
     "end_time": "2022-10-14T14:58:12.341214",
     "exception": false,
     "start_time": "2022-10-14T14:58:12.328859",
     "status": "completed"
    },
    "tags": []
   },
   "source": [
    "Here as we can see, the documents are numbered in the rows, and each word is a column name, with the corresponding value being the frequency of that word in the document.\n",
    "\n",
    "Lets break this down and see how we can do this conversion using a small set of documents.\n",
    "\n",
    "To handle this, we will be using sklearns count vectorizer method which does the following:\n",
    "\n",
    "It tokenizes the string(separates the string into individual words) and gives an integer ID to each token.\n",
    "It counts the occurrence of each of those tokens."
   ]
  },
  {
   "cell_type": "markdown",
   "id": "75057c5e",
   "metadata": {
    "papermill": {
     "duration": 0.015714,
     "end_time": "2022-10-14T14:58:12.375237",
     "exception": false,
     "start_time": "2022-10-14T14:58:12.359523",
     "status": "completed"
    },
    "tags": []
   },
   "source": [
    "# Implementation of Bag of Words Approach\n",
    "\n"
   ]
  },
  {
   "cell_type": "markdown",
   "id": "513cf481",
   "metadata": {
    "papermill": {
     "duration": 0.013252,
     "end_time": "2022-10-14T14:58:12.404235",
     "exception": false,
     "start_time": "2022-10-14T14:58:12.390983",
     "status": "completed"
    },
    "tags": []
   },
   "source": [
    "**Step 1: Convert all strings to their lower case form.**"
   ]
  },
  {
   "cell_type": "code",
   "execution_count": 18,
   "id": "95eb5883",
   "metadata": {
    "execution": {
     "iopub.execute_input": "2022-10-14T14:58:12.432335Z",
     "iopub.status.busy": "2022-10-14T14:58:12.431811Z",
     "iopub.status.idle": "2022-10-14T14:58:12.437497Z",
     "shell.execute_reply": "2022-10-14T14:58:12.436467Z"
    },
    "papermill": {
     "duration": 0.022022,
     "end_time": "2022-10-14T14:58:12.439366",
     "exception": false,
     "start_time": "2022-10-14T14:58:12.417344",
     "status": "completed"
    },
    "tags": []
   },
   "outputs": [
    {
     "name": "stdout",
     "output_type": "stream",
     "text": [
      "['hello, how are you!', 'win money, win from home.', 'call me now.', 'hello, call hello you tomorrow?']\n"
     ]
    }
   ],
   "source": [
    "documents = ['Hello, how are you!',\n",
    "             'Win money, win from home.',\n",
    "             'Call me now.',\n",
    "             'Hello, Call hello you tomorrow?']\n",
    "\n",
    "lower_case_documents = []\n",
    "lower_case_documents = [d.lower() for d in documents]\n",
    "print(lower_case_documents)"
   ]
  },
  {
   "cell_type": "markdown",
   "id": "a80f2fcc",
   "metadata": {
    "papermill": {
     "duration": 0.013388,
     "end_time": "2022-10-14T14:58:12.469112",
     "exception": false,
     "start_time": "2022-10-14T14:58:12.455724",
     "status": "completed"
    },
    "tags": []
   },
   "source": [
    "**Step 2: Removing all punctuations**"
   ]
  },
  {
   "cell_type": "code",
   "execution_count": 19,
   "id": "eb4a5a2a",
   "metadata": {
    "execution": {
     "iopub.execute_input": "2022-10-14T14:58:12.498417Z",
     "iopub.status.busy": "2022-10-14T14:58:12.497765Z",
     "iopub.status.idle": "2022-10-14T14:58:12.505797Z",
     "shell.execute_reply": "2022-10-14T14:58:12.504021Z"
    },
    "papermill": {
     "duration": 0.026405,
     "end_time": "2022-10-14T14:58:12.509165",
     "exception": false,
     "start_time": "2022-10-14T14:58:12.482760",
     "status": "completed"
    },
    "tags": []
   },
   "outputs": [
    {
     "data": {
      "text/plain": [
       "['hello how are you',\n",
       " 'win money win from home',\n",
       " 'call me now',\n",
       " 'hello call hello you tomorrow']"
      ]
     },
     "execution_count": 19,
     "metadata": {},
     "output_type": "execute_result"
    }
   ],
   "source": [
    "sans_punctuation_documents = []\n",
    "import string\n",
    "\n",
    "for i in lower_case_documents:\n",
    "    sans_punctuation_documents.append(i.translate(str.maketrans(\"\",\"\", string.punctuation)))\n",
    "    \n",
    "sans_punctuation_documents"
   ]
  },
  {
   "cell_type": "markdown",
   "id": "c17c42eb",
   "metadata": {
    "papermill": {
     "duration": 0.014592,
     "end_time": "2022-10-14T14:58:12.539259",
     "exception": false,
     "start_time": "2022-10-14T14:58:12.524667",
     "status": "completed"
    },
    "tags": []
   },
   "source": [
    "**Step 3: Tokenization**"
   ]
  },
  {
   "cell_type": "code",
   "execution_count": 20,
   "id": "54dde759",
   "metadata": {
    "execution": {
     "iopub.execute_input": "2022-10-14T14:58:12.573489Z",
     "iopub.status.busy": "2022-10-14T14:58:12.573159Z",
     "iopub.status.idle": "2022-10-14T14:58:12.579979Z",
     "shell.execute_reply": "2022-10-14T14:58:12.578894Z"
    },
    "papermill": {
     "duration": 0.029143,
     "end_time": "2022-10-14T14:58:12.583138",
     "exception": false,
     "start_time": "2022-10-14T14:58:12.553995",
     "status": "completed"
    },
    "tags": []
   },
   "outputs": [
    {
     "data": {
      "text/plain": [
       "[['hello', 'how', 'are', 'you'],\n",
       " ['win', 'money', 'win', 'from', 'home'],\n",
       " ['call', 'me', 'now'],\n",
       " ['hello', 'call', 'hello', 'you', 'tomorrow']]"
      ]
     },
     "execution_count": 20,
     "metadata": {},
     "output_type": "execute_result"
    }
   ],
   "source": [
    "preprocessed_documents = [[w for w in d.split()] for d in sans_punctuation_documents]\n",
    "preprocessed_documents"
   ]
  },
  {
   "cell_type": "markdown",
   "id": "5c37fc8b",
   "metadata": {
    "papermill": {
     "duration": 0.013914,
     "end_time": "2022-10-14T14:58:12.610842",
     "exception": false,
     "start_time": "2022-10-14T14:58:12.596928",
     "status": "completed"
    },
    "tags": []
   },
   "source": [
    "**Step 4: Count frequencies**"
   ]
  },
  {
   "cell_type": "code",
   "execution_count": 21,
   "id": "ecadbf85",
   "metadata": {
    "execution": {
     "iopub.execute_input": "2022-10-14T14:58:12.642592Z",
     "iopub.status.busy": "2022-10-14T14:58:12.641860Z",
     "iopub.status.idle": "2022-10-14T14:58:12.649487Z",
     "shell.execute_reply": "2022-10-14T14:58:12.648400Z"
    },
    "papermill": {
     "duration": 0.026769,
     "end_time": "2022-10-14T14:58:12.651841",
     "exception": false,
     "start_time": "2022-10-14T14:58:12.625072",
     "status": "completed"
    },
    "tags": []
   },
   "outputs": [
    {
     "name": "stdout",
     "output_type": "stream",
     "text": [
      "[Counter({'hello': 1, 'how': 1, 'are': 1, 'you': 1}),\n",
      " Counter({'win': 2, 'money': 1, 'from': 1, 'home': 1}),\n",
      " Counter({'call': 1, 'me': 1, 'now': 1}),\n",
      " Counter({'hello': 2, 'call': 1, 'you': 1, 'tomorrow': 1})]\n"
     ]
    }
   ],
   "source": [
    "frequency_list = []\n",
    "import pprint\n",
    "from collections import Counter\n",
    "\n",
    "frequency_list = [Counter(d) for d in preprocessed_documents]\n",
    "pprint.pprint(frequency_list)"
   ]
  },
  {
   "cell_type": "code",
   "execution_count": 22,
   "id": "093c7b2b",
   "metadata": {
    "execution": {
     "iopub.execute_input": "2022-10-14T14:58:12.683326Z",
     "iopub.status.busy": "2022-10-14T14:58:12.683009Z",
     "iopub.status.idle": "2022-10-14T14:58:12.688186Z",
     "shell.execute_reply": "2022-10-14T14:58:12.687001Z"
    },
    "papermill": {
     "duration": 0.022721,
     "end_time": "2022-10-14T14:58:12.690163",
     "exception": false,
     "start_time": "2022-10-14T14:58:12.667442",
     "status": "completed"
    },
    "tags": []
   },
   "outputs": [],
   "source": [
    "from sklearn.feature_extraction.text import CountVectorizer\n",
    "count_vector = CountVectorizer()"
   ]
  },
  {
   "cell_type": "markdown",
   "id": "ac12101c",
   "metadata": {
    "papermill": {
     "duration": 0.012912,
     "end_time": "2022-10-14T14:58:12.717104",
     "exception": false,
     "start_time": "2022-10-14T14:58:12.704192",
     "status": "completed"
    },
    "tags": []
   },
   "source": [
    "# Data preprocessing with CountVectorizer()\n",
    "\n",
    "In above step, we implemented a version of the CountVectorizer() method from scratch that entailed cleaning our data first. This cleaning involved converting all of our data to lower case and removing all punctuation marks. CountVectorizer() has certain parameters which take care of these steps for us. They are:\n",
    "\n",
    "lowercase = True\n",
    "\n",
    "The lowercase parameter has a default value of True which converts all of our text to its lower case form.\n",
    "\n",
    "token_pattern = (?u)\\b\\w\\w+\\b\n",
    "\n",
    "The token_pattern parameter has a default regular expression value of (?u)\\b\\w\\w+\\b which ignores all punctuation marks and treats them as delimiters, while accepting alphanumeric strings of length greater than or equal to 2, as individual tokens or words.\n",
    "\n",
    "stop_words\n",
    "\n",
    "The stop_words parameter, if set to english will remove all words from our document set that match a list of English stop words which is defined in scikit-learn. Considering the size of our dataset and the fact that we are dealing with SMS messages and not larger text sources like e-mail, we will not be setting this parameter value."
   ]
  },
  {
   "cell_type": "code",
   "execution_count": 23,
   "id": "9bf074fa",
   "metadata": {
    "execution": {
     "iopub.execute_input": "2022-10-14T14:58:12.744890Z",
     "iopub.status.busy": "2022-10-14T14:58:12.744489Z",
     "iopub.status.idle": "2022-10-14T14:58:12.756513Z",
     "shell.execute_reply": "2022-10-14T14:58:12.755632Z"
    },
    "papermill": {
     "duration": 0.028585,
     "end_time": "2022-10-14T14:58:12.758657",
     "exception": false,
     "start_time": "2022-10-14T14:58:12.730072",
     "status": "completed"
    },
    "tags": []
   },
   "outputs": [
    {
     "data": {
      "text/plain": [
       "['are',\n",
       " 'call',\n",
       " 'from',\n",
       " 'hello',\n",
       " 'home',\n",
       " 'how',\n",
       " 'me',\n",
       " 'money',\n",
       " 'now',\n",
       " 'tomorrow',\n",
       " 'win',\n",
       " 'you']"
      ]
     },
     "execution_count": 23,
     "metadata": {},
     "output_type": "execute_result"
    }
   ],
   "source": [
    "count_vector.fit(documents)\n",
    "count_vector.get_feature_names()"
   ]
  },
  {
   "cell_type": "code",
   "execution_count": 24,
   "id": "15b3fbc7",
   "metadata": {
    "execution": {
     "iopub.execute_input": "2022-10-14T14:58:12.785735Z",
     "iopub.status.busy": "2022-10-14T14:58:12.785375Z",
     "iopub.status.idle": "2022-10-14T14:58:12.793051Z",
     "shell.execute_reply": "2022-10-14T14:58:12.792004Z"
    },
    "papermill": {
     "duration": 0.023322,
     "end_time": "2022-10-14T14:58:12.794941",
     "exception": false,
     "start_time": "2022-10-14T14:58:12.771619",
     "status": "completed"
    },
    "tags": []
   },
   "outputs": [
    {
     "data": {
      "text/plain": [
       "array([[1, 0, 0, 1, 0, 1, 0, 0, 0, 0, 0, 1],\n",
       "       [0, 0, 1, 0, 1, 0, 0, 1, 0, 0, 2, 0],\n",
       "       [0, 1, 0, 0, 0, 0, 1, 0, 1, 0, 0, 0],\n",
       "       [0, 1, 0, 2, 0, 0, 0, 0, 0, 1, 0, 1]])"
      ]
     },
     "execution_count": 24,
     "metadata": {},
     "output_type": "execute_result"
    }
   ],
   "source": [
    "doc_array = count_vector.transform(documents).toarray()\n",
    "doc_array"
   ]
  },
  {
   "cell_type": "code",
   "execution_count": 25,
   "id": "fb38d8c2",
   "metadata": {
    "execution": {
     "iopub.execute_input": "2022-10-14T14:58:12.823534Z",
     "iopub.status.busy": "2022-10-14T14:58:12.823219Z",
     "iopub.status.idle": "2022-10-14T14:58:12.836079Z",
     "shell.execute_reply": "2022-10-14T14:58:12.834912Z"
    },
    "papermill": {
     "duration": 0.030058,
     "end_time": "2022-10-14T14:58:12.838557",
     "exception": false,
     "start_time": "2022-10-14T14:58:12.808499",
     "status": "completed"
    },
    "tags": []
   },
   "outputs": [
    {
     "data": {
      "text/html": [
       "<div>\n",
       "<style scoped>\n",
       "    .dataframe tbody tr th:only-of-type {\n",
       "        vertical-align: middle;\n",
       "    }\n",
       "\n",
       "    .dataframe tbody tr th {\n",
       "        vertical-align: top;\n",
       "    }\n",
       "\n",
       "    .dataframe thead th {\n",
       "        text-align: right;\n",
       "    }\n",
       "</style>\n",
       "<table border=\"1\" class=\"dataframe\">\n",
       "  <thead>\n",
       "    <tr style=\"text-align: right;\">\n",
       "      <th></th>\n",
       "      <th>are</th>\n",
       "      <th>call</th>\n",
       "      <th>from</th>\n",
       "      <th>hello</th>\n",
       "      <th>home</th>\n",
       "      <th>how</th>\n",
       "      <th>me</th>\n",
       "      <th>money</th>\n",
       "      <th>now</th>\n",
       "      <th>tomorrow</th>\n",
       "      <th>win</th>\n",
       "      <th>you</th>\n",
       "    </tr>\n",
       "  </thead>\n",
       "  <tbody>\n",
       "    <tr>\n",
       "      <th>0</th>\n",
       "      <td>1</td>\n",
       "      <td>0</td>\n",
       "      <td>0</td>\n",
       "      <td>1</td>\n",
       "      <td>0</td>\n",
       "      <td>1</td>\n",
       "      <td>0</td>\n",
       "      <td>0</td>\n",
       "      <td>0</td>\n",
       "      <td>0</td>\n",
       "      <td>0</td>\n",
       "      <td>1</td>\n",
       "    </tr>\n",
       "    <tr>\n",
       "      <th>1</th>\n",
       "      <td>0</td>\n",
       "      <td>0</td>\n",
       "      <td>1</td>\n",
       "      <td>0</td>\n",
       "      <td>1</td>\n",
       "      <td>0</td>\n",
       "      <td>0</td>\n",
       "      <td>1</td>\n",
       "      <td>0</td>\n",
       "      <td>0</td>\n",
       "      <td>2</td>\n",
       "      <td>0</td>\n",
       "    </tr>\n",
       "    <tr>\n",
       "      <th>2</th>\n",
       "      <td>0</td>\n",
       "      <td>1</td>\n",
       "      <td>0</td>\n",
       "      <td>0</td>\n",
       "      <td>0</td>\n",
       "      <td>0</td>\n",
       "      <td>1</td>\n",
       "      <td>0</td>\n",
       "      <td>1</td>\n",
       "      <td>0</td>\n",
       "      <td>0</td>\n",
       "      <td>0</td>\n",
       "    </tr>\n",
       "    <tr>\n",
       "      <th>3</th>\n",
       "      <td>0</td>\n",
       "      <td>1</td>\n",
       "      <td>0</td>\n",
       "      <td>2</td>\n",
       "      <td>0</td>\n",
       "      <td>0</td>\n",
       "      <td>0</td>\n",
       "      <td>0</td>\n",
       "      <td>0</td>\n",
       "      <td>1</td>\n",
       "      <td>0</td>\n",
       "      <td>1</td>\n",
       "    </tr>\n",
       "  </tbody>\n",
       "</table>\n",
       "</div>"
      ],
      "text/plain": [
       "   are  call  from  hello  home  how  me  money  now  tomorrow  win  you\n",
       "0    1     0     0      1     0    1   0      0    0         0    0    1\n",
       "1    0     0     1      0     1    0   0      1    0         0    2    0\n",
       "2    0     1     0      0     0    0   1      0    1         0    0    0\n",
       "3    0     1     0      2     0    0   0      0    0         1    0    1"
      ]
     },
     "execution_count": 25,
     "metadata": {},
     "output_type": "execute_result"
    }
   ],
   "source": [
    "frequency_matrix = pd.DataFrame(doc_array, columns = count_vector.get_feature_names())\n",
    "frequency_matrix"
   ]
  },
  {
   "cell_type": "markdown",
   "id": "c7a8c4b6",
   "metadata": {
    "papermill": {
     "duration": 0.013435,
     "end_time": "2022-10-14T14:58:12.865851",
     "exception": false,
     "start_time": "2022-10-14T14:58:12.852416",
     "status": "completed"
    },
    "tags": []
   },
   "source": [
    "# Model Building"
   ]
  },
  {
   "cell_type": "markdown",
   "id": "253ee788",
   "metadata": {
    "papermill": {
     "duration": 0.014629,
     "end_time": "2022-10-14T14:58:12.894999",
     "exception": false,
     "start_time": "2022-10-14T14:58:12.880370",
     "status": "completed"
    },
    "tags": []
   },
   "source": [
    "![](https://lh4.googleusercontent.com/WFmLk4zeHeLnAUHL9p4ePChAziudL8SX3yTHgmNhUNJXzGcHvnIEZc1SupmYN61imvLDK72Qa4vAhSlohtZeRT0EPCOBG9RaQCYI7MVhULVRuIJcWhMqGPYHEugLnhR72oMPkl4S)"
   ]
  },
  {
   "cell_type": "code",
   "execution_count": 26,
   "id": "eed8c616",
   "metadata": {
    "execution": {
     "iopub.execute_input": "2022-10-14T14:58:12.926188Z",
     "iopub.status.busy": "2022-10-14T14:58:12.925868Z",
     "iopub.status.idle": "2022-10-14T14:58:12.935519Z",
     "shell.execute_reply": "2022-10-14T14:58:12.934215Z"
    },
    "papermill": {
     "duration": 0.027958,
     "end_time": "2022-10-14T14:58:12.938143",
     "exception": false,
     "start_time": "2022-10-14T14:58:12.910185",
     "status": "completed"
    },
    "tags": []
   },
   "outputs": [],
   "source": [
    "from sklearn.model_selection import train_test_split\n",
    "X_train, X_test, y_train, y_test = train_test_split(df['sms'], \n",
    "                                                    df['label'],test_size=0.20, \n",
    "                                                    random_state=1)"
   ]
  },
  {
   "cell_type": "code",
   "execution_count": 27,
   "id": "92f5901a",
   "metadata": {
    "execution": {
     "iopub.execute_input": "2022-10-14T14:58:12.971027Z",
     "iopub.status.busy": "2022-10-14T14:58:12.970669Z",
     "iopub.status.idle": "2022-10-14T14:58:12.976543Z",
     "shell.execute_reply": "2022-10-14T14:58:12.974798Z"
    },
    "papermill": {
     "duration": 0.024658,
     "end_time": "2022-10-14T14:58:12.978914",
     "exception": false,
     "start_time": "2022-10-14T14:58:12.954256",
     "status": "completed"
    },
    "tags": []
   },
   "outputs": [],
   "source": [
    "from sklearn.feature_extraction.text import CountVectorizer"
   ]
  },
  {
   "cell_type": "code",
   "execution_count": 28,
   "id": "87772574",
   "metadata": {
    "execution": {
     "iopub.execute_input": "2022-10-14T14:58:13.009431Z",
     "iopub.status.busy": "2022-10-14T14:58:13.009071Z",
     "iopub.status.idle": "2022-10-14T14:58:13.119505Z",
     "shell.execute_reply": "2022-10-14T14:58:13.117868Z"
    },
    "papermill": {
     "duration": 0.128867,
     "end_time": "2022-10-14T14:58:13.122082",
     "exception": false,
     "start_time": "2022-10-14T14:58:12.993215",
     "status": "completed"
    },
    "tags": []
   },
   "outputs": [],
   "source": [
    "from sklearn.feature_extraction.text import CountVectorizer\n",
    "count_vector = CountVectorizer()\n",
    "\n",
    "# Fit the training data and then return the matrix\n",
    "training_data = count_vector.fit_transform(X_train)\n",
    "\n",
    "# Transform testing data and return the matrix. \n",
    "testing_data = count_vector.transform(X_test)"
   ]
  },
  {
   "cell_type": "code",
   "execution_count": 29,
   "id": "13724097",
   "metadata": {
    "execution": {
     "iopub.execute_input": "2022-10-14T14:58:13.151771Z",
     "iopub.status.busy": "2022-10-14T14:58:13.151392Z",
     "iopub.status.idle": "2022-10-14T14:58:13.164914Z",
     "shell.execute_reply": "2022-10-14T14:58:13.163858Z"
    },
    "papermill": {
     "duration": 0.03094,
     "end_time": "2022-10-14T14:58:13.166774",
     "exception": false,
     "start_time": "2022-10-14T14:58:13.135834",
     "status": "completed"
    },
    "tags": []
   },
   "outputs": [
    {
     "data": {
      "text/plain": [
       "MultinomialNB()"
      ]
     },
     "execution_count": 29,
     "metadata": {},
     "output_type": "execute_result"
    }
   ],
   "source": [
    "from sklearn.naive_bayes import MultinomialNB\n",
    "naive_bayes = MultinomialNB()\n",
    "naive_bayes.fit(training_data,y_train)"
   ]
  },
  {
   "cell_type": "markdown",
   "id": "8ab59ee7",
   "metadata": {
    "papermill": {
     "duration": 0.013804,
     "end_time": "2022-10-14T14:58:13.194670",
     "exception": false,
     "start_time": "2022-10-14T14:58:13.180866",
     "status": "completed"
    },
    "tags": []
   },
   "source": [
    "# Evaluation"
   ]
  },
  {
   "cell_type": "code",
   "execution_count": 30,
   "id": "a2799de4",
   "metadata": {
    "execution": {
     "iopub.execute_input": "2022-10-14T14:58:13.224887Z",
     "iopub.status.busy": "2022-10-14T14:58:13.224531Z",
     "iopub.status.idle": "2022-10-14T14:58:13.230163Z",
     "shell.execute_reply": "2022-10-14T14:58:13.229377Z"
    },
    "papermill": {
     "duration": 0.022976,
     "end_time": "2022-10-14T14:58:13.231995",
     "exception": false,
     "start_time": "2022-10-14T14:58:13.209019",
     "status": "completed"
    },
    "tags": []
   },
   "outputs": [],
   "source": [
    "predictions = naive_bayes.predict(testing_data)"
   ]
  },
  {
   "cell_type": "code",
   "execution_count": 31,
   "id": "5f0d2d2c",
   "metadata": {
    "execution": {
     "iopub.execute_input": "2022-10-14T14:58:13.263672Z",
     "iopub.status.busy": "2022-10-14T14:58:13.263124Z",
     "iopub.status.idle": "2022-10-14T14:58:13.278148Z",
     "shell.execute_reply": "2022-10-14T14:58:13.276723Z"
    },
    "papermill": {
     "duration": 0.035151,
     "end_time": "2022-10-14T14:58:13.281583",
     "exception": false,
     "start_time": "2022-10-14T14:58:13.246432",
     "status": "completed"
    },
    "tags": []
   },
   "outputs": [
    {
     "name": "stdout",
     "output_type": "stream",
     "text": [
      "Accuracy score: 0.9847533632286996\n",
      "Precision score: 0.9420289855072463\n",
      "Recall score: 0.935251798561151\n",
      "F1 score: 0.9386281588447652\n"
     ]
    }
   ],
   "source": [
    "from sklearn.metrics import accuracy_score, precision_score, recall_score, f1_score\n",
    "print('Accuracy score: {}'.format(accuracy_score(y_test, predictions)))\n",
    "print('Precision score: {}'.format(precision_score(y_test, predictions)))\n",
    "print('Recall score: {}'.format(recall_score(y_test, predictions)))\n",
    "print('F1 score: {}'.format(f1_score(y_test, predictions)))"
   ]
  },
  {
   "cell_type": "markdown",
   "id": "48a8b90e",
   "metadata": {
    "papermill": {
     "duration": 0.014164,
     "end_time": "2022-10-14T14:58:13.310538",
     "exception": false,
     "start_time": "2022-10-14T14:58:13.296374",
     "status": "completed"
    },
    "tags": []
   },
   "source": [
    "![](https://miro.medium.com/max/828/1*CS-OYdiRLCBMBiOpEURy0g.png)"
   ]
  },
  {
   "cell_type": "markdown",
   "id": "fff755c6",
   "metadata": {
    "papermill": {
     "duration": 0.013785,
     "end_time": "2022-10-14T14:58:13.338595",
     "exception": false,
     "start_time": "2022-10-14T14:58:13.324810",
     "status": "completed"
    },
    "tags": []
   },
   "source": [
    "# Credit \n",
    "> https://www.kaggle.com/code/ryanluoli2/a-complete-guide-to-naive-bayes-classifiers\n",
    "> https://www.kaggle.com/code/sid321axn/sms-spam-classifier-naive-bayes-ml-algo/notebook\n",
    "> https://binitaregmi.medium.com/spam-classification-using-naive-bayes-algorithm-3e263061a3b0\n",
    "> https://binitaregmi.medium.com/spam-classification-using-naive-bayes-algorithm-3e263061a3b0\n",
    "> https://medium.com/@serbanliviu/building-a-simple-yet-powerful-spam-filter-with-naive-bayes-classifier-1e6a98feaea6\n",
    "> \n",
    "\n",
    "**Without this source this notebook can't possabile. Specail thanks behind this people who are made this resource.**"
   ]
  }
 ],
 "metadata": {
  "kernelspec": {
   "display_name": "Python 3",
   "language": "python",
   "name": "python3"
  },
  "language_info": {
   "codemirror_mode": {
    "name": "ipython",
    "version": 3
   },
   "file_extension": ".py",
   "mimetype": "text/x-python",
   "name": "python",
   "nbconvert_exporter": "python",
   "pygments_lexer": "ipython3",
   "version": "3.7.12"
  },
  "papermill": {
   "default_parameters": {},
   "duration": 13.966245,
   "end_time": "2022-10-14T14:58:14.175433",
   "environment_variables": {},
   "exception": null,
   "input_path": "__notebook__.ipynb",
   "output_path": "__notebook__.ipynb",
   "parameters": {},
   "start_time": "2022-10-14T14:58:00.209188",
   "version": "2.3.4"
  }
 },
 "nbformat": 4,
 "nbformat_minor": 5
}
